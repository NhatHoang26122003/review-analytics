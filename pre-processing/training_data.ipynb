{
 "cells": [
  {
   "cell_type": "code",
   "execution_count": 13,
   "metadata": {},
   "outputs": [],
   "source": [
    "import pandas as pd"
   ]
  },
  {
   "cell_type": "code",
   "execution_count": 22,
   "metadata": {},
   "outputs": [],
   "source": [
    "df = pd.read_csv(\"output.csv\")\n",
    "df = df.drop([\"Review\", \"Review_clean\"], axis=1)\n",
    "df = df.rename(columns={\"tokens\":\"review_clean\"})"
   ]
  },
  {
   "cell_type": "code",
   "execution_count": 23,
   "metadata": {},
   "outputs": [],
   "source": [
    "cols = df.columns.to_list()\n",
    "cols.insert(0, cols.pop())\n",
    "df = df[cols]"
   ]
  },
  {
   "cell_type": "code",
   "execution_count": 24,
   "metadata": {},
   "outputs": [
    {
     "data": {
      "text/plain": [
       "<bound method IndexOpsMixin.tolist of Index(['review_clean', 'giai_tri', 'luu_tru', 'nha_hang', 'an_uong',\n",
       "       'van_chuyen', 'mua_sam'],\n",
       "      dtype='object')>"
      ]
     },
     "execution_count": 24,
     "metadata": {},
     "output_type": "execute_result"
    }
   ],
   "source": [
    "df.columns.to_list"
   ]
  },
  {
   "cell_type": "code",
   "execution_count": 27,
   "metadata": {},
   "outputs": [],
   "source": [
    "aspect_cols = ['giai_tri', 'luu_tru', 'nha_hang', 'an_uong',\n",
    "       'van_chuyen', 'mua_sam']\n",
    "df_acd = df.copy()"
   ]
  },
  {
   "cell_type": "code",
   "execution_count": 28,
   "metadata": {},
   "outputs": [],
   "source": [
    "df_acd[aspect_cols] = (df_acd[aspect_cols] > 0).astype(int)"
   ]
  },
  {
   "cell_type": "code",
   "execution_count": 30,
   "metadata": {},
   "outputs": [
    {
     "data": {
      "text/html": [
       "<div>\n",
       "<style scoped>\n",
       "    .dataframe tbody tr th:only-of-type {\n",
       "        vertical-align: middle;\n",
       "    }\n",
       "\n",
       "    .dataframe tbody tr th {\n",
       "        vertical-align: top;\n",
       "    }\n",
       "\n",
       "    .dataframe thead th {\n",
       "        text-align: right;\n",
       "    }\n",
       "</style>\n",
       "<table border=\"1\" class=\"dataframe\">\n",
       "  <thead>\n",
       "    <tr style=\"text-align: right;\">\n",
       "      <th></th>\n",
       "      <th>review_clean</th>\n",
       "      <th>giai_tri</th>\n",
       "      <th>luu_tru</th>\n",
       "      <th>nha_hang</th>\n",
       "      <th>an_uong</th>\n",
       "      <th>van_chuyen</th>\n",
       "      <th>mua_sam</th>\n",
       "    </tr>\n",
       "  </thead>\n",
       "  <tbody>\n",
       "    <tr>\n",
       "      <th>0</th>\n",
       "      <td>bánh rất nhiều tôm to tôm_giòn nằm chễm_chệ tr...</td>\n",
       "      <td>0</td>\n",
       "      <td>0</td>\n",
       "      <td>0</td>\n",
       "      <td>1</td>\n",
       "      <td>0</td>\n",
       "      <td>0</td>\n",
       "    </tr>\n",
       "    <tr>\n",
       "      <th>1</th>\n",
       "      <td>đi quy_nhơn cứ lo không có pizza ăn nhưng nhờ ...</td>\n",
       "      <td>0</td>\n",
       "      <td>0</td>\n",
       "      <td>0</td>\n",
       "      <td>1</td>\n",
       "      <td>0</td>\n",
       "      <td>0</td>\n",
       "    </tr>\n",
       "    <tr>\n",
       "      <th>2</th>\n",
       "      <td>các món ăn ở đây không có gì đặc_sắc có_lẽ nấu...</td>\n",
       "      <td>0</td>\n",
       "      <td>0</td>\n",
       "      <td>1</td>\n",
       "      <td>1</td>\n",
       "      <td>0</td>\n",
       "      <td>0</td>\n",
       "    </tr>\n",
       "    <tr>\n",
       "      <th>3</th>\n",
       "      <td>lần thứ quay lại đây vì giới_thiệu quán cà_phê...</td>\n",
       "      <td>0</td>\n",
       "      <td>0</td>\n",
       "      <td>0</td>\n",
       "      <td>1</td>\n",
       "      <td>0</td>\n",
       "      <td>0</td>\n",
       "    </tr>\n",
       "    <tr>\n",
       "      <th>4</th>\n",
       "      <td>rất khuyên bạn nên ghé thăm quán bar thể_thao này</td>\n",
       "      <td>1</td>\n",
       "      <td>0</td>\n",
       "      <td>0</td>\n",
       "      <td>0</td>\n",
       "      <td>0</td>\n",
       "      <td>0</td>\n",
       "    </tr>\n",
       "    <tr>\n",
       "      <th>...</th>\n",
       "      <td>...</td>\n",
       "      <td>...</td>\n",
       "      <td>...</td>\n",
       "      <td>...</td>\n",
       "      <td>...</td>\n",
       "      <td>...</td>\n",
       "      <td>...</td>\n",
       "    </tr>\n",
       "    <tr>\n",
       "      <th>2960</th>\n",
       "      <td>hải_sản chủ_yếu buổi chiều giá cao hơn chợ đầm</td>\n",
       "      <td>0</td>\n",
       "      <td>0</td>\n",
       "      <td>0</td>\n",
       "      <td>0</td>\n",
       "      <td>0</td>\n",
       "      <td>1</td>\n",
       "    </tr>\n",
       "    <tr>\n",
       "      <th>2961</th>\n",
       "      <td>ngoài_ra khách_sạn ở khu trung_tâm gần bãi biể...</td>\n",
       "      <td>0</td>\n",
       "      <td>1</td>\n",
       "      <td>0</td>\n",
       "      <td>0</td>\n",
       "      <td>0</td>\n",
       "      <td>0</td>\n",
       "    </tr>\n",
       "    <tr>\n",
       "      <th>2962</th>\n",
       "      <td>khách_sạn sạch_sẽ tiện_nghi dịch_vụ đa_dạng</td>\n",
       "      <td>0</td>\n",
       "      <td>1</td>\n",
       "      <td>0</td>\n",
       "      <td>0</td>\n",
       "      <td>0</td>\n",
       "      <td>0</td>\n",
       "    </tr>\n",
       "    <tr>\n",
       "      <th>2963</th>\n",
       "      <td>sẽ ủng_hộ lâu_dài tuy_nhiên còn vài điều cần g...</td>\n",
       "      <td>0</td>\n",
       "      <td>0</td>\n",
       "      <td>0</td>\n",
       "      <td>0</td>\n",
       "      <td>1</td>\n",
       "      <td>0</td>\n",
       "    </tr>\n",
       "    <tr>\n",
       "      <th>2964</th>\n",
       "      <td>vị_trí siêu_thuận_tiện tại trung_tâm thành_phố...</td>\n",
       "      <td>0</td>\n",
       "      <td>1</td>\n",
       "      <td>0</td>\n",
       "      <td>0</td>\n",
       "      <td>0</td>\n",
       "      <td>0</td>\n",
       "    </tr>\n",
       "  </tbody>\n",
       "</table>\n",
       "<p>2965 rows × 7 columns</p>\n",
       "</div>"
      ],
      "text/plain": [
       "                                           review_clean  giai_tri  luu_tru  \\\n",
       "0     bánh rất nhiều tôm to tôm_giòn nằm chễm_chệ tr...         0        0   \n",
       "1     đi quy_nhơn cứ lo không có pizza ăn nhưng nhờ ...         0        0   \n",
       "2     các món ăn ở đây không có gì đặc_sắc có_lẽ nấu...         0        0   \n",
       "3     lần thứ quay lại đây vì giới_thiệu quán cà_phê...         0        0   \n",
       "4     rất khuyên bạn nên ghé thăm quán bar thể_thao này         1        0   \n",
       "...                                                 ...       ...      ...   \n",
       "2960     hải_sản chủ_yếu buổi chiều giá cao hơn chợ đầm         0        0   \n",
       "2961  ngoài_ra khách_sạn ở khu trung_tâm gần bãi biể...         0        1   \n",
       "2962        khách_sạn sạch_sẽ tiện_nghi dịch_vụ đa_dạng         0        1   \n",
       "2963  sẽ ủng_hộ lâu_dài tuy_nhiên còn vài điều cần g...         0        0   \n",
       "2964  vị_trí siêu_thuận_tiện tại trung_tâm thành_phố...         0        1   \n",
       "\n",
       "      nha_hang  an_uong  van_chuyen  mua_sam  \n",
       "0            0        1           0        0  \n",
       "1            0        1           0        0  \n",
       "2            1        1           0        0  \n",
       "3            0        1           0        0  \n",
       "4            0        0           0        0  \n",
       "...        ...      ...         ...      ...  \n",
       "2960         0        0           0        1  \n",
       "2961         0        0           0        0  \n",
       "2962         0        0           0        0  \n",
       "2963         0        0           1        0  \n",
       "2964         0        0           0        0  \n",
       "\n",
       "[2965 rows x 7 columns]"
      ]
     },
     "execution_count": 30,
     "metadata": {},
     "output_type": "execute_result"
    }
   ],
   "source": [
    "df_acd\n",
    "df_acd.to_csv(\"acd_data.csv\", index=False)"
   ]
  }
 ],
 "metadata": {
  "kernelspec": {
   "display_name": "Python310",
   "language": "python",
   "name": "python3"
  },
  "language_info": {
   "codemirror_mode": {
    "name": "ipython",
    "version": 3
   },
   "file_extension": ".py",
   "mimetype": "text/x-python",
   "name": "python",
   "nbconvert_exporter": "python",
   "pygments_lexer": "ipython3",
   "version": "3.10.4"
  }
 },
 "nbformat": 4,
 "nbformat_minor": 2
}

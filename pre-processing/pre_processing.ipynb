{
 "cells": [
  {
   "cell_type": "code",
   "execution_count": 3,
   "metadata": {},
   "outputs": [],
   "source": [
    "import pandas as pd"
   ]
  },
  {
   "cell_type": "code",
   "execution_count": 4,
   "metadata": {},
   "outputs": [
    {
     "name": "stdout",
     "output_type": "stream",
     "text": [
      "0       Bánh rất nhiều tôm to, tôm giòn nằm chễm chệ t...\n",
      "1       Đi Quy Nhơn cứ lo không có pizza ăn nhưng nhờ ...\n",
      "2       các món ăn ở đây không có gì đặc sắc, có lẽ nấ...\n",
      "3       Lần thứ 2 quay lại đây, vì giới thiệu quán cà ...\n",
      "4       Rất khuyên bạn nên ghé thăm quán bar thể thao này\n",
      "                              ...                        \n",
      "2960       Hải sản chủ yếu buổi chiều giá cao hơn chợ đầm\n",
      "2961    Ngoài ra, khách sạn ở khu trung tâm, gần bãi b...\n",
      "2962        Khách sạn sạch sẽ tiện nghi, dịch vụ đa dạng.\n",
      "2963    Sẽ ủng hộ lâu dài, tuy nhiên còn vài điều cần ...\n",
      "2964    Vị trí siêu thuận tiện, tại trung tâm thành ph...\n",
      "Name: Review, Length: 2965, dtype: object\n"
     ]
    }
   ],
   "source": [
    "df = pd.read_csv(\"E:\\\\HOCTAPCNTT\\\\PROJECT\\\\Review Analytics\\\\data\\\\train\\\\train-problem.csv\")\n",
    "print(df[\"Review\"])"
   ]
  },
  {
   "cell_type": "code",
   "execution_count": 5,
   "metadata": {},
   "outputs": [],
   "source": [
    "import re\n",
    "\n",
    "def clean_text(text):\n",
    "    text = str(text).lower()\n",
    "    text = re.sub(r'[^\\w\\s]', ' ', text)\n",
    "    text = re.sub(r'\\d+', ' ', text)\n",
    "    text = re.sub(r'\\s', ' ', text).strip()\n",
    "    return text\n",
    "\n",
    "df[\"Review_clean\"] = df[\"Review\"].apply(clean_text)"
   ]
  },
  {
   "cell_type": "code",
   "execution_count": 6,
   "metadata": {},
   "outputs": [
    {
     "data": {
      "text/plain": [
       "0       bánh rất nhiều tôm to  tôm giòn nằm chễm chệ t...\n",
       "1       đi quy nhơn cứ lo không có pizza ăn nhưng nhờ ...\n",
       "2       các món ăn ở đây không có gì đặc sắc  có lẽ nấ...\n",
       "3       lần thứ   quay lại đây  vì giới thiệu quán cà ...\n",
       "4       rất khuyên bạn nên ghé thăm quán bar thể thao này\n",
       "                              ...                        \n",
       "2960       hải sản chủ yếu buổi chiều giá cao hơn chợ đầm\n",
       "2961    ngoài ra  khách sạn ở khu trung tâm  gần bãi b...\n",
       "2962         khách sạn sạch sẽ tiện nghi  dịch vụ đa dạng\n",
       "2963    sẽ ủng hộ lâu dài  tuy nhiên còn vài điều cần ...\n",
       "2964    vị trí siêu thuận tiện  tại trung tâm thành ph...\n",
       "Name: Review_clean, Length: 2965, dtype: object"
      ]
     },
     "execution_count": 6,
     "metadata": {},
     "output_type": "execute_result"
    }
   ],
   "source": [
    "df[\"Review_clean\"]"
   ]
  },
  {
   "cell_type": "code",
   "execution_count": 7,
   "metadata": {},
   "outputs": [],
   "source": [
    "from underthesea import word_tokenize\n",
    "\n",
    "df[\"tokens\"] = df[\"Review_clean\"].apply(lambda x: word_tokenize(x, format=\"text\"))"
   ]
  },
  {
   "cell_type": "code",
   "execution_count": 8,
   "metadata": {},
   "outputs": [
    {
     "data": {
      "text/plain": [
       "0       bánh rất nhiều tôm to tôm_giòn nằm chễm_chệ tr...\n",
       "1       đi quy_nhơn cứ lo không có pizza ăn nhưng nhờ ...\n",
       "2       các món ăn ở đây không có gì đặc_sắc có_lẽ nấu...\n",
       "3       lần thứ quay lại đây vì giới_thiệu quán cà_phê...\n",
       "4       rất khuyên bạn nên ghé thăm quán bar thể_thao này\n",
       "                              ...                        \n",
       "2960       hải_sản chủ_yếu buổi chiều giá cao hơn chợ đầm\n",
       "2961    ngoài_ra khách_sạn ở khu trung_tâm gần bãi biể...\n",
       "2962          khách_sạn sạch_sẽ tiện_nghi dịch_vụ đa_dạng\n",
       "2963    sẽ ủng_hộ lâu_dài tuy_nhiên còn vài điều cần g...\n",
       "2964    vị_trí siêu_thuận_tiện tại trung_tâm thành_phố...\n",
       "Name: tokens, Length: 2965, dtype: object"
      ]
     },
     "execution_count": 8,
     "metadata": {},
     "output_type": "execute_result"
    }
   ],
   "source": [
    "df[\"tokens\"]"
   ]
  },
  {
   "cell_type": "code",
   "execution_count": 9,
   "metadata": {},
   "outputs": [],
   "source": [
    "# with open(\"vietnamese-stopwords-dash.txt\", \"r\", encoding=\"utf-8\") as f:\n",
    "#     stop_words = set(line.strip() for line in f if line.strip())\n",
    "\n",
    "# def remove_stop_words(text): \n",
    "#     tokens = text.split()\n",
    "#     filtered = [w for w in tokens if w not in stop_words]\n",
    "#     return \" \".join(filtered)\n",
    "\n",
    "# df[\"Review_clean\"] = df[\"tokens\"].apply(remove_stop_words)"
   ]
  },
  {
   "cell_type": "code",
   "execution_count": 11,
   "metadata": {},
   "outputs": [],
   "source": [
    "df.to_csv('output.csv', index=False)"
   ]
  },
  {
   "cell_type": "code",
   "execution_count": null,
   "metadata": {},
   "outputs": [],
   "source": []
  }
 ],
 "metadata": {
  "kernelspec": {
   "display_name": "Python310",
   "language": "python",
   "name": "python3"
  },
  "language_info": {
   "codemirror_mode": {
    "name": "ipython",
    "version": 3
   },
   "file_extension": ".py",
   "mimetype": "text/x-python",
   "name": "python",
   "nbconvert_exporter": "python",
   "pygments_lexer": "ipython3",
   "version": "3.10.4"
  }
 },
 "nbformat": 4,
 "nbformat_minor": 2
}
